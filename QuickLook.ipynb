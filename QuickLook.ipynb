{
 "cells": [
  {
   "cell_type": "code",
   "execution_count": 1,
   "metadata": {
    "collapsed": true
   },
   "outputs": [],
   "source": [
    "import pandas as pd\n",
    "import numpy as np\n",
    "from sklearn.preprocessing import LabelBinarizer, LabelEncoder, OneHotEncoder\n",
    "from sklearn.linear_model import Ridge, LogisticRegression\n",
    "from sklearn.naive_bayes import BernoulliNB, MultinomialNB\n",
    "from sklearn.feature_extraction.text import CountVectorizer, TfidfVectorizer\n",
    "from sklearn.metrics import f1_score, precision_score, accuracy_score\n",
    "from sklearn.externals import joblib\n",
    "from sklearn.pipeline import Pipeline\n",
    "import seaborn as sb\n",
    "from sklearn.model_selection import train_test_split, GridSearchCV"
   ]
  },
  {
   "cell_type": "code",
   "execution_count": 2,
   "metadata": {
    "collapsed": true
   },
   "outputs": [],
   "source": [
    "dat = pd.read_csv('app_overview.csv')"
   ]
  },
  {
   "cell_type": "markdown",
   "metadata": {},
   "source": [
    "## Glance on data"
   ]
  },
  {
   "cell_type": "code",
   "execution_count": 3,
   "metadata": {
    "collapsed": false
   },
   "outputs": [
    {
     "data": {
      "text/html": [
       "<div>\n",
       "<table border=\"1\" class=\"dataframe\">\n",
       "  <thead>\n",
       "    <tr style=\"text-align: right;\">\n",
       "      <th></th>\n",
       "      <th>domain</th>\n",
       "      <th>cat</th>\n",
       "      <th>sub</th>\n",
       "    </tr>\n",
       "  </thead>\n",
       "  <tbody>\n",
       "    <tr>\n",
       "      <th>0</th>\n",
       "      <td>hangouts.google.com</td>\n",
       "      <td>Communication</td>\n",
       "      <td>Chat</td>\n",
       "    </tr>\n",
       "    <tr>\n",
       "      <th>1</th>\n",
       "      <td>slack.com</td>\n",
       "      <td>Communication</td>\n",
       "      <td>Chat</td>\n",
       "    </tr>\n",
       "    <tr>\n",
       "      <th>2</th>\n",
       "      <td>messenger.com</td>\n",
       "      <td>Communication</td>\n",
       "      <td>Chat</td>\n",
       "    </tr>\n",
       "    <tr>\n",
       "      <th>3</th>\n",
       "      <td>skype.com</td>\n",
       "      <td>Communication</td>\n",
       "      <td>Chat</td>\n",
       "    </tr>\n",
       "    <tr>\n",
       "      <th>4</th>\n",
       "      <td>hipchat.com</td>\n",
       "      <td>Communication</td>\n",
       "      <td>Chat</td>\n",
       "    </tr>\n",
       "  </tbody>\n",
       "</table>\n",
       "</div>"
      ],
      "text/plain": [
       "                domain             cat    sub\n",
       "0  hangouts.google.com   Communication   Chat\n",
       "1            slack.com   Communication   Chat\n",
       "2        messenger.com   Communication   Chat\n",
       "3            skype.com   Communication   Chat\n",
       "4          hipchat.com   Communication   Chat"
      ]
     },
     "execution_count": 3,
     "metadata": {},
     "output_type": "execute_result"
    }
   ],
   "source": [
    "dat.head()"
   ]
  },
  {
   "cell_type": "code",
   "execution_count": 4,
   "metadata": {
    "collapsed": false
   },
   "outputs": [],
   "source": [
    "# Change column name from \" cat\" to \"cat\" and \" sub\" to \"subcat\"\n",
    "dat.rename_axis({dat.columns[1]:'cat'},axis=1,inplace=True)\n",
    "dat.rename_axis({dat.columns[2]:'subcat'},axis=1,inplace=True)"
   ]
  },
  {
   "cell_type": "code",
   "execution_count": 5,
   "metadata": {
    "collapsed": false
   },
   "outputs": [],
   "source": [
    "new_dat = dat.copy(deep=True)"
   ]
  },
  {
   "cell_type": "code",
   "execution_count": 6,
   "metadata": {
    "collapsed": true
   },
   "outputs": [],
   "source": [
    "counterize = CountVectorizer(ngram_range=(3,6),analyzer='char').build_analyzer()"
   ]
  },
  {
   "cell_type": "code",
   "execution_count": 7,
   "metadata": {
    "collapsed": false
   },
   "outputs": [],
   "source": [
    "onehot_encoder = OneHotEncoder()\n",
    "label_encoder = LabelEncoder()\n",
    "new_dat['cat'] = label_encoder.fit_transform(dat['cat'])\n",
    "new_dat['subcat'] = label_encoder.fit_transform(dat['subcat'])"
   ]
  },
  {
   "cell_type": "markdown",
   "metadata": {},
   "source": [
    "## URL Domain split"
   ]
  },
  {
   "cell_type": "code",
   "execution_count": 8,
   "metadata": {
    "collapsed": true
   },
   "outputs": [],
   "source": [
    "# Url with format xxx.xxx or xxx.yyy.zzz\n",
    "def split_webname(url):\n",
    "    return url.split('.')[0]"
   ]
  },
  {
   "cell_type": "code",
   "execution_count": 10,
   "metadata": {
    "collapsed": true
   },
   "outputs": [],
   "source": [
    "new_dat['domain'] = dat.domain.map(lambda d: split_webname(d))"
   ]
  },
  {
   "cell_type": "markdown",
   "metadata": {},
   "source": [
    "## Count top term each category"
   ]
  },
  {
   "cell_type": "code",
   "execution_count": 11,
   "metadata": {
    "collapsed": true
   },
   "outputs": [],
   "source": [
    "# words_ngram = np.array([counterize(word).flatten() for word in new_dat.domain])\n",
    "def count_topic_gram(dat):\n",
    "    words_ngram = []\n",
    "    for word in dat:\n",
    "        words_ngram.extend(counterize(word))\n",
    "    words_ngram = np.array(words_ngram)\n",
    "    return pd.DataFrame(zip(*np.unique(words_ngram,return_counts=True)),columns=['term','tf'])\n",
    "\n",
    "chat_topic = count_topic_gram(new_dat[new_dat.cat==0]['domain'])\n",
    "share_topic = count_topic_gram(new_dat[new_dat.cat==1]['domain'])"
   ]
  },
  {
   "cell_type": "code",
   "execution_count": 23,
   "metadata": {
    "collapsed": false
   },
   "outputs": [
    {
     "data": {
      "text/plain": [
       "<matplotlib.axes._subplots.AxesSubplot at 0x7f226d0ea090>"
      ]
     },
     "execution_count": 23,
     "metadata": {},
     "output_type": "execute_result"
    },
    {
     "data": {
      "image/png": "[encoded data removed]",
      "text/plain": [
       "<matplotlib.figure.Figure at 0x7f226d0f4a90>"
      ]
     },
     "metadata": {},
     "output_type": "display_data"
    }
   ],
   "source": [
    "%matplotlib inline\n",
    "share_topic.sort_values(['tf'],ascending=False)[:10].set_index(['term']).plot(kind='bar',title='top 10 terms in File-sharing')"
   ]
  },
  {
   "cell_type": "code",
   "execution_count": 22,
   "metadata": {
    "collapsed": false
   },
   "outputs": [
    {
     "data": {
      "text/plain": [
       "<matplotlib.axes._subplots.AxesSubplot at 0x7f226d52c790>"
      ]
     },
     "execution_count": 22,
     "metadata": {},
     "output_type": "execute_result"
    },
    {
     "data": {
      "image/png": "[encoded data removed]",
      "text/plain": [
       "<matplotlib.figure.Figure at 0x7f226d310d10>"
      ]
     },
     "metadata": {},
     "output_type": "display_data"
    }
   ],
   "source": [
    "%matplotlib inline\n",
    "chat_topic.sort_values(['tf'],ascending=False)[:10].set_index(['term']).plot(kind='bar',title='top 10 terms in communication')"
   ]
  },
  {
   "cell_type": "markdown",
   "metadata": {},
   "source": [
    "# Preparing dataset"
   ]
  },
  {
   "cell_type": "code",
   "execution_count": 14,
   "metadata": {
    "collapsed": true
   },
   "outputs": [],
   "source": [
    "Xr_train, Xr_val, yr_train, yr_val = train_test_split(new_dat['domain'],new_dat['cat'],train_size=0.7,\n",
    "                                                      stratify=new_dat['cat'],random_state=4111)"
   ]
  },
  {
   "cell_type": "markdown",
   "metadata": {},
   "source": [
    "# Model Learning"
   ]
  },
  {
   "cell_type": "markdown",
   "metadata": {},
   "source": [
    "## Tf-idf weighting"
   ]
  },
  {
   "cell_type": "code",
   "execution_count": 15,
   "metadata": {
    "collapsed": false
   },
   "outputs": [],
   "source": [
    "tfidfVec = TfidfVectorizer(analyzer='char',sublinear_tf=True,stop_words=None)"
   ]
  },
  {
   "cell_type": "markdown",
   "metadata": {},
   "source": [
    "## Train with tf-idf"
   ]
  },
  {
   "cell_type": "code",
   "execution_count": 16,
   "metadata": {
    "collapsed": false
   },
   "outputs": [],
   "source": [
    "# model = MultinomialNB()\n",
    "# model.fit(X_tf_train,y_tf_train)\n",
    "# print model.score(X_tf_val,y_tf_val)\n",
    "# estimator = MultinomialNB()\n",
    "estimator = LogisticRegression()\n",
    "url_predict = Pipeline([('vec', tfidfVec), ('linear', estimator)])"
   ]
  },
  {
   "cell_type": "code",
   "execution_count": 17,
   "metadata": {
    "collapsed": false
   },
   "outputs": [
    {
     "name": "stdout",
     "output_type": "stream",
     "text": [
      "Pipeline(steps=[('vec', TfidfVectorizer(analyzer='char', binary=False, decode_error=u'strict',\n",
      "        dtype=<type 'numpy.int64'>, encoding=u'utf-8', input=u'content',\n",
      "        lowercase=True, max_df=1.0, max_features=None, min_df=1,\n",
      "        ngram_range=(3, 6), norm=u'l2', preprocessor=None, smooth_idf=True,\n",
      "...ty='l2', random_state=None, solver='liblinear', tol=0.0001,\n",
      "          verbose=0, warm_start=False))])\n"
     ]
    },
    {
     "data": {
      "text/plain": [
       "0.8571428571428571"
      ]
     },
     "execution_count": 17,
     "metadata": {},
     "output_type": "execute_result"
    }
   ],
   "source": [
    "param_grid = {\n",
    "    'linear__C':[0.001,0.01,0.1,1.0,10,100,1000],\n",
    "#     'linear__alpha':[0.001,0.01,0.1,1.0,10,100,1000],\n",
    "    'vec__ngram_range':[(1,5),(1,6),(2,6),(3,6),(3,3),(4,4),(2,2),(3,5),(4,6),(4,4),(3,8)],\n",
    "}\n",
    "gridSearch = GridSearchCV(estimator=url_predict,param_grid=param_grid,n_jobs=-1,scoring='f1',cv=5)\n",
    "gridSearch.fit(Xr_train,yr_train)\n",
    "print gridSearch.best_estimator_\n",
    "gridSearch.score(Xr_val,yr_val)"
   ]
  },
  {
   "cell_type": "code",
   "execution_count": 18,
   "metadata": {
    "collapsed": false
   },
   "outputs": [],
   "source": [
    "all_probs = np.array([ max(prob) for prob in gridSearch.predict_proba(new_dat['domain'])])"
   ]
  },
  {
   "cell_type": "code",
   "execution_count": 19,
   "metadata": {
    "collapsed": false
   },
   "outputs": [
    {
     "name": "stdout",
     "output_type": "stream",
     "text": [
      "Threshold = 0.751300022784\n"
     ]
    }
   ],
   "source": [
    "# p-value > 50%\n",
    "threshold = all_probs.mean() - all_probs.std()\n",
    "print \"Threshold = %s\"%threshold"
   ]
  },
  {
   "cell_type": "code",
   "execution_count": 20,
   "metadata": {
    "collapsed": true
   },
   "outputs": [],
   "source": [
    "def check_threshold_other(log_proba):\n",
    "    prob = max(log_proba)\n",
    "    if prob < threshold:\n",
    "        return 2\n",
    "    return log_proba.argmax()"
   ]
  },
  {
   "cell_type": "code",
   "execution_count": 21,
   "metadata": {
    "collapsed": false
   },
   "outputs": [
    {
     "data": {
      "text/plain": [
       "['url_predict.model']"
      ]
     },
     "execution_count": 21,
     "metadata": {},
     "output_type": "execute_result"
    }
   ],
   "source": [
    "joblib.dump(gridSearch.best_estimator_,'url_predict.model')"
   ]
  }
 ],
 "metadata": {
  "kernelspec": {
   "display_name": "Python 2",
   "language": "python",
   "name": "python2"
  },
  "language_info": {
   "codemirror_mode": {
    "name": "ipython",
    "version": 2
   },
   "file_extension": ".py",
   "mimetype": "text/x-python",
   "name": "python",
   "nbconvert_exporter": "python",
   "pygments_lexer": "ipython2",
   "version": "2.7.12"
  }
 },
 "nbformat": 4,
 "nbformat_minor": 1
}
